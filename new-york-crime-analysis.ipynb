{
 "cells": [
  {
   "cell_type": "markdown",
   "metadata": {},
   "source": [
    "## About the dataset\n",
    "The dataset includes all valid felony, misdemeanor, and violation crimes reported to the New York City Police Department (NYPD) from 2006 to the end of 2019. \n",
    "\n",
    "The [original dataset](https://data.cityofnewyork.us/d/qgea-i56i?category=Public-Safety&view_name=NYPD-Complaint-Data-Historic) can be found on the [NYC Open Data](http://https://opendata.cityofnewyork.us/) website.\n",
    "\n"
   ]
  },
  {
   "cell_type": "markdown",
   "metadata": {},
   "source": [
    "## Import libraries and data"
   ]
  },
  {
   "cell_type": "code",
   "execution_count": 81,
   "metadata": {
    "_cell_guid": "b1076dfc-b9ad-4769-8c92-a6c4dae69d19",
    "_uuid": "8f2839f25d086af736a60e9eeb907d3b93b6e0e5"
   },
   "outputs": [],
   "source": [
    "import pandas as pd \n",
    "\n",
    "import warnings\n",
    "warnings.filterwarnings('ignore')"
   ]
  },
  {
   "cell_type": "code",
   "execution_count": 82,
   "metadata": {},
   "outputs": [],
   "source": [
    "# importing data as pandas dataframe\n",
    "df = pd.read_csv(\"NYPD_Complaint_Data_Historic.csv\")"
   ]
  },
  {
   "cell_type": "markdown",
   "metadata": {},
   "source": [
    "## Data pre-processing\n",
    "\n",
    "Firstly, we check the amount of rows in the dataset to understand the size we are working with."
   ]
  },
  {
   "cell_type": "code",
   "execution_count": 83,
   "metadata": {},
   "outputs": [
    {
     "name": "stdout",
     "output_type": "stream",
     "text": [
      "Observations:  7825499\n",
      "Variables:  35\n"
     ]
    }
   ],
   "source": [
    "#The dataset size\n",
    "print(\"Observations: \", df.shape[0])\n",
    "\n",
    "#The number of variables\n",
    "print(\"Variables: \", df.shape[1])"
   ]
  },
  {
   "cell_type": "markdown",
   "metadata": {},
   "source": [
    "- The `head()` function is to check if the data is successfully obtained."
   ]
  },
  {
   "cell_type": "code",
   "execution_count": 84,
   "metadata": {},
   "outputs": [
    {
     "data": {
      "text/html": [
       "<div>\n",
       "<style scoped>\n",
       "    .dataframe tbody tr th:only-of-type {\n",
       "        vertical-align: middle;\n",
       "    }\n",
       "\n",
       "    .dataframe tbody tr th {\n",
       "        vertical-align: top;\n",
       "    }\n",
       "\n",
       "    .dataframe thead th {\n",
       "        text-align: right;\n",
       "    }\n",
       "</style>\n",
       "<table border=\"1\" class=\"dataframe\">\n",
       "  <thead>\n",
       "    <tr style=\"text-align: right;\">\n",
       "      <th></th>\n",
       "      <th>CMPLNT_NUM</th>\n",
       "      <th>CMPLNT_FR_DT</th>\n",
       "      <th>CMPLNT_FR_TM</th>\n",
       "      <th>CMPLNT_TO_DT</th>\n",
       "      <th>CMPLNT_TO_TM</th>\n",
       "      <th>ADDR_PCT_CD</th>\n",
       "      <th>RPT_DT</th>\n",
       "      <th>KY_CD</th>\n",
       "      <th>OFNS_DESC</th>\n",
       "      <th>PD_CD</th>\n",
       "      <th>...</th>\n",
       "      <th>SUSP_SEX</th>\n",
       "      <th>TRANSIT_DISTRICT</th>\n",
       "      <th>Latitude</th>\n",
       "      <th>Longitude</th>\n",
       "      <th>Lat_Lon</th>\n",
       "      <th>PATROL_BORO</th>\n",
       "      <th>STATION_NAME</th>\n",
       "      <th>VIC_AGE_GROUP</th>\n",
       "      <th>VIC_RACE</th>\n",
       "      <th>VIC_SEX</th>\n",
       "    </tr>\n",
       "  </thead>\n",
       "  <tbody>\n",
       "    <tr>\n",
       "      <th>0</th>\n",
       "      <td>394506329</td>\n",
       "      <td>12/31/2019</td>\n",
       "      <td>17:30:00</td>\n",
       "      <td>NaN</td>\n",
       "      <td>NaN</td>\n",
       "      <td>32.0</td>\n",
       "      <td>12/31/2019</td>\n",
       "      <td>118</td>\n",
       "      <td>DANGEROUS WEAPONS</td>\n",
       "      <td>793.0</td>\n",
       "      <td>...</td>\n",
       "      <td>NaN</td>\n",
       "      <td>NaN</td>\n",
       "      <td>40.820927</td>\n",
       "      <td>-73.943324</td>\n",
       "      <td>(40.82092679700002, -73.94332421899996)</td>\n",
       "      <td>PATROL BORO MAN NORTH</td>\n",
       "      <td>NaN</td>\n",
       "      <td>UNKNOWN</td>\n",
       "      <td>UNKNOWN</td>\n",
       "      <td>E</td>\n",
       "    </tr>\n",
       "    <tr>\n",
       "      <th>1</th>\n",
       "      <td>968873685</td>\n",
       "      <td>12/29/2019</td>\n",
       "      <td>16:31:00</td>\n",
       "      <td>12/29/2019</td>\n",
       "      <td>16:54:00</td>\n",
       "      <td>47.0</td>\n",
       "      <td>12/29/2019</td>\n",
       "      <td>113</td>\n",
       "      <td>FORGERY</td>\n",
       "      <td>729.0</td>\n",
       "      <td>...</td>\n",
       "      <td>NaN</td>\n",
       "      <td>NaN</td>\n",
       "      <td>40.885701</td>\n",
       "      <td>-73.861640</td>\n",
       "      <td>(40.885701406000074, -73.86164032499995)</td>\n",
       "      <td>PATROL BORO BRONX</td>\n",
       "      <td>NaN</td>\n",
       "      <td>UNKNOWN</td>\n",
       "      <td>UNKNOWN</td>\n",
       "      <td>E</td>\n",
       "    </tr>\n",
       "    <tr>\n",
       "      <th>2</th>\n",
       "      <td>509837549</td>\n",
       "      <td>12/15/2019</td>\n",
       "      <td>18:45:00</td>\n",
       "      <td>NaN</td>\n",
       "      <td>NaN</td>\n",
       "      <td>109.0</td>\n",
       "      <td>12/29/2019</td>\n",
       "      <td>578</td>\n",
       "      <td>HARRASSMENT 2</td>\n",
       "      <td>638.0</td>\n",
       "      <td>...</td>\n",
       "      <td>M</td>\n",
       "      <td>NaN</td>\n",
       "      <td>40.742281</td>\n",
       "      <td>-73.819824</td>\n",
       "      <td>(40.74228115600005, -73.81982408)</td>\n",
       "      <td>PATROL BORO QUEENS NORTH</td>\n",
       "      <td>NaN</td>\n",
       "      <td>25-44</td>\n",
       "      <td>WHITE HISPANIC</td>\n",
       "      <td>F</td>\n",
       "    </tr>\n",
       "    <tr>\n",
       "      <th>3</th>\n",
       "      <td>352454313</td>\n",
       "      <td>12/28/2019</td>\n",
       "      <td>01:00:00</td>\n",
       "      <td>NaN</td>\n",
       "      <td>NaN</td>\n",
       "      <td>47.0</td>\n",
       "      <td>12/28/2019</td>\n",
       "      <td>126</td>\n",
       "      <td>MISCELLANEOUS PENAL LAW</td>\n",
       "      <td>117.0</td>\n",
       "      <td>...</td>\n",
       "      <td>M</td>\n",
       "      <td>NaN</td>\n",
       "      <td>40.875311</td>\n",
       "      <td>-73.847545</td>\n",
       "      <td>(40.87531145100007, -73.84754521099995)</td>\n",
       "      <td>PATROL BORO BRONX</td>\n",
       "      <td>NaN</td>\n",
       "      <td>UNKNOWN</td>\n",
       "      <td>UNKNOWN</td>\n",
       "      <td>E</td>\n",
       "    </tr>\n",
       "    <tr>\n",
       "      <th>4</th>\n",
       "      <td>248803469</td>\n",
       "      <td>09/05/2008</td>\n",
       "      <td>21:41:00</td>\n",
       "      <td>NaN</td>\n",
       "      <td>NaN</td>\n",
       "      <td>NaN</td>\n",
       "      <td>09/05/2008</td>\n",
       "      <td>101</td>\n",
       "      <td>MURDER &amp; NON-NEGL. MANSLAUGHTER</td>\n",
       "      <td>NaN</td>\n",
       "      <td>...</td>\n",
       "      <td>NaN</td>\n",
       "      <td>NaN</td>\n",
       "      <td>40.698827</td>\n",
       "      <td>-73.938819</td>\n",
       "      <td>(40.698827283, -73.938819047)</td>\n",
       "      <td>NaN</td>\n",
       "      <td>NaN</td>\n",
       "      <td>25-44</td>\n",
       "      <td>BLACK</td>\n",
       "      <td>M</td>\n",
       "    </tr>\n",
       "  </tbody>\n",
       "</table>\n",
       "<p>5 rows × 35 columns</p>\n",
       "</div>"
      ],
      "text/plain": [
       "   CMPLNT_NUM CMPLNT_FR_DT CMPLNT_FR_TM CMPLNT_TO_DT CMPLNT_TO_TM  \\\n",
       "0   394506329   12/31/2019     17:30:00          NaN          NaN   \n",
       "1   968873685   12/29/2019     16:31:00   12/29/2019     16:54:00   \n",
       "2   509837549   12/15/2019     18:45:00          NaN          NaN   \n",
       "3   352454313   12/28/2019     01:00:00          NaN          NaN   \n",
       "4   248803469   09/05/2008     21:41:00          NaN          NaN   \n",
       "\n",
       "   ADDR_PCT_CD      RPT_DT  KY_CD                        OFNS_DESC  PD_CD  \\\n",
       "0         32.0  12/31/2019    118                DANGEROUS WEAPONS  793.0   \n",
       "1         47.0  12/29/2019    113                          FORGERY  729.0   \n",
       "2        109.0  12/29/2019    578                    HARRASSMENT 2  638.0   \n",
       "3         47.0  12/28/2019    126          MISCELLANEOUS PENAL LAW  117.0   \n",
       "4          NaN  09/05/2008    101  MURDER & NON-NEGL. MANSLAUGHTER    NaN   \n",
       "\n",
       "   ... SUSP_SEX TRANSIT_DISTRICT   Latitude  Longitude  \\\n",
       "0  ...      NaN              NaN  40.820927 -73.943324   \n",
       "1  ...      NaN              NaN  40.885701 -73.861640   \n",
       "2  ...        M              NaN  40.742281 -73.819824   \n",
       "3  ...        M              NaN  40.875311 -73.847545   \n",
       "4  ...      NaN              NaN  40.698827 -73.938819   \n",
       "\n",
       "                                    Lat_Lon               PATROL_BORO  \\\n",
       "0   (40.82092679700002, -73.94332421899996)     PATROL BORO MAN NORTH   \n",
       "1  (40.885701406000074, -73.86164032499995)         PATROL BORO BRONX   \n",
       "2         (40.74228115600005, -73.81982408)  PATROL BORO QUEENS NORTH   \n",
       "3   (40.87531145100007, -73.84754521099995)         PATROL BORO BRONX   \n",
       "4             (40.698827283, -73.938819047)                       NaN   \n",
       "\n",
       "  STATION_NAME  VIC_AGE_GROUP        VIC_RACE VIC_SEX  \n",
       "0          NaN        UNKNOWN         UNKNOWN       E  \n",
       "1          NaN        UNKNOWN         UNKNOWN       E  \n",
       "2          NaN          25-44  WHITE HISPANIC       F  \n",
       "3          NaN        UNKNOWN         UNKNOWN       E  \n",
       "4          NaN          25-44           BLACK       M  \n",
       "\n",
       "[5 rows x 35 columns]"
      ]
     },
     "execution_count": 84,
     "metadata": {},
     "output_type": "execute_result"
    }
   ],
   "source": [
    "# show first 5 entries\n",
    "df.head()"
   ]
  },
  {
   "cell_type": "markdown",
   "metadata": {},
   "source": [
    "Then, we display every column to understand the variables and their types."
   ]
  },
  {
   "cell_type": "code",
   "execution_count": 85,
   "metadata": {},
   "outputs": [
    {
     "data": {
      "text/plain": [
       "CMPLNT_NUM             int64\n",
       "CMPLNT_FR_DT          object\n",
       "CMPLNT_FR_TM          object\n",
       "CMPLNT_TO_DT          object\n",
       "CMPLNT_TO_TM          object\n",
       "ADDR_PCT_CD          float64\n",
       "RPT_DT                object\n",
       "KY_CD                  int64\n",
       "OFNS_DESC             object\n",
       "PD_CD                float64\n",
       "PD_DESC               object\n",
       "CRM_ATPT_CPTD_CD      object\n",
       "LAW_CAT_CD            object\n",
       "BORO_NM               object\n",
       "LOC_OF_OCCUR_DESC     object\n",
       "PREM_TYP_DESC         object\n",
       "JURIS_DESC            object\n",
       "JURISDICTION_CODE    float64\n",
       "PARKS_NM              object\n",
       "HADEVELOPT            object\n",
       "HOUSING_PSA           object\n",
       "X_COORD_CD           float64\n",
       "Y_COORD_CD           float64\n",
       "SUSP_AGE_GROUP        object\n",
       "SUSP_RACE             object\n",
       "SUSP_SEX              object\n",
       "TRANSIT_DISTRICT     float64\n",
       "Latitude             float64\n",
       "Longitude            float64\n",
       "Lat_Lon               object\n",
       "PATROL_BORO           object\n",
       "STATION_NAME          object\n",
       "VIC_AGE_GROUP         object\n",
       "VIC_RACE              object\n",
       "VIC_SEX               object\n",
       "dtype: object"
      ]
     },
     "execution_count": 85,
     "metadata": {},
     "output_type": "execute_result"
    }
   ],
   "source": [
    "#the name of the variables and their types\n",
    "df.dtypes"
   ]
  },
  {
   "cell_type": "markdown",
   "metadata": {},
   "source": [
    "### Variables dictionary \n",
    "\n",
    "> **CMPLNT_NUM** - Randomly generated persistent ID for each complaint\n",
    "> \n",
    "> **ADDR_PCT_CD** - The precinct in which the incident occurred\n",
    "> \n",
    "> **BORO** - The name of the borough in which the incident occurred\n",
    "> \n",
    "> **CMPLNT_FR_DT** - Exact date of occurrence for the reported event (or starting date of occurrence, if CMPLNT_TO_DT exists)\n",
    "> \n",
    "> **CMPLNT_FR_TM** - Exact time of occurrence for the reported event (or starting time of occurrence, if CMPLNT_TO_TM exists)\n",
    "> \n",
    "> **CMPLNT_TO_DT** - Ending date of occurrence for the reported event, if exact time of occurrence is unknown\n",
    "> \n",
    "> **CMPLNT_TO_TM** - Ending time of occurrence for the reported event, if exact time of occurrence is unknown\n",
    "> \n",
    "> **CRM_ATPT_CPTD_CD** - Indicator of whether crime was successfully completed or attempted, but failed or was interrupted prematurely\n",
    "> \n",
    "> **HADEVELOPT** - Name of NYCHA housing development of occurrence, if applicable\n",
    "> \n",
    "> **HOUSING_PSA** - Development Level Code\n",
    "> \n",
    "> **JURISDICTION_CODE** - Jurisdiction responsible for incident. Either internal, like Police(0), Transit(1), and Housing(2); or external(3), like Correction, Port Authority, etc.\n",
    "> \n",
    "> **JURIS_DESC** - Description of the jurisdiction code\n",
    "> \n",
    "> **KY_CD** - Three digit offense classification code\n",
    "> \n",
    "> **LAW_CAT_CD** - Level of offense: felony, misdemeanor, violation\n",
    "> \n",
    "> **LOC_OF_OCCUR_DESC** - Specific location of occurrence in or around the premises; inside, opposite of, front of, rear of\n",
    "> \n",
    "> **OFNS_DESC** - Description of offense corresponding with key code\n",
    "> \n",
    "> **PARKS_NM** - Name of NYC park, playground or greenspace of occurrence, if applicable (state parks are not included)\n",
    "> \n",
    "> **PATROL_BORO** - The name of the patrol borough in which the incident occurred\n",
    "> \n",
    "> **PD_CD** - Three digit internal classification code (more granular than Key Code)\n",
    "> \n",
    "> **PD_DESC** - Description of internal classification corresponding with PD code (more granular than Offense Description)\n",
    "> \n",
    "> **PREM_TYP_DESC** - Specific description of premises; grocery store, residence, street, etc.\n",
    "> \n",
    "> **RPT_DT** - Date event was reported to police\n",
    "> \n",
    "> **STATION_NAME** - Transit station name\n",
    "> \n",
    "> **SUSP_AGE_GROUP** - Suspect’s Age Group\n",
    "> \n",
    "> **SUSP_RACE** - Suspect’s Race Description\n",
    "> \n",
    "> **SUSP_SEX** - Suspect’s Sex Description\n",
    "> \n",
    "> **TRANSIT_DISTRICT** - Transit district in which the offense occurred.\n",
    "> \n",
    "> **VIC_AGE_GROUP** - Victim’s Age Group\n",
    "> \n",
    "> **VIC_RACE** - Victim’s Race Description\n",
    "> \n",
    "> **VIC_SEX** - Victim’s Sex Description (D=Business/Organization, E=PSNY/People of the State of New York, F=Female, M=Male)\n",
    "> \n",
    "> **X_COORD_CD** - X-coordinate for New York State Plane Coordinate System, Long Island Zone, NAD 83, units feet (FIPS 3104)\n",
    "> \n",
    "> **Y_COORD_CD** - Y-coordinate for New York State Plane Coordinate System, Long Island Zone, NAD 83, units feet (FIPS 3104)\n",
    "> \n",
    "> **Latitude** - Midblock Latitude coordinate for Global Coordinate System, WGS 1984, decimal degrees (EPSG 4326)\n",
    "> \n",
    "> **Longitude** - Midblock Longitude coordinate for Global Coordinate System, WGS 1984, decimal degrees (EPSG 4326)"
   ]
  },
  {
   "cell_type": "markdown",
   "metadata": {},
   "source": [
    "The dataset contains over 6 million crime reports from 2006 to 2019, with a total of 35 variables each.\n",
    "\n",
    "After looking at the head of the dataset we were already able to notice some NaN values, therefore we need to examine the missing values further before continuing with the analysis. \n",
    "\n",
    "- The `isna()` function will show us the percentage of non-existent values for each variable."
   ]
  },
  {
   "cell_type": "code",
   "execution_count": 86,
   "metadata": {
    "collapsed": true
   },
   "outputs": [
    {
     "data": {
      "text/plain": [
       "PARKS_NM             99.605712\n",
       "STATION_NAME         97.795987\n",
       "TRANSIT_DISTRICT     97.795987\n",
       "HADEVELOPT           95.548028\n",
       "HOUSING_PSA          92.341792\n",
       "SUSP_AGE_GROUP       62.403292\n",
       "SUSP_SEX             46.618650\n",
       "SUSP_RACE            44.915065\n",
       "CMPLNT_TO_DT         22.289876\n",
       "CMPLNT_TO_TM         22.228346\n",
       "VIC_AGE_GROUP        20.937259\n",
       "LOC_OF_OCCUR_DESC    20.676803\n",
       "PREM_TYP_DESC         0.536899\n",
       "OFNS_DESC             0.240649\n",
       "Y_COORD_CD            0.221571\n",
       "X_COORD_CD            0.221571\n",
       "Lat_Lon               0.221571\n",
       "Latitude              0.221571\n",
       "Longitude             0.221571\n",
       "BORO_NM               0.159479\n",
       "PATROL_BORO           0.092237\n",
       "PD_DESC               0.086397\n",
       "PD_CD                 0.086397\n",
       "JURISDICTION_CODE     0.086397\n",
       "ADDR_PCT_CD           0.027679\n",
       "CMPLNT_FR_DT          0.008370\n",
       "VIC_RACE              0.004984\n",
       "VIC_SEX               0.003936\n",
       "CRM_ATPT_CPTD_CD      0.002147\n",
       "CMPLNT_FR_TM          0.000613\n",
       "JURIS_DESC            0.000000\n",
       "LAW_CAT_CD            0.000000\n",
       "KY_CD                 0.000000\n",
       "RPT_DT                0.000000\n",
       "CMPLNT_NUM            0.000000\n",
       "dtype: float64"
      ]
     },
     "execution_count": 86,
     "metadata": {},
     "output_type": "execute_result"
    }
   ],
   "source": [
    "#See the percentege of missing values in each variable\n",
    "(df.isna().sum()/df.shape[0]*100).sort_values(ascending=False)"
   ]
  },
  {
   "cell_type": "markdown",
   "metadata": {},
   "source": [
    "### Data Cleaning\n",
    "\n",
    "#### Dealing with NaN data\n",
    "\n",
    "Since some of the columns are pretty important for the analysis, I dropped entire rows which miss any crucial value. For that, I used the `dropNA()` function in Pandas.\n",
    "\n",
    "The columns I didn't want to drop entire rows, I opted to fill them with the 'UNKNOWN' value (These include variables that contain information about the victims of the crime, such as their age group, race, and gender). I used the `fillNA()` function for that.\n",
    "\n",
    "It is worth mention that some specific variables have a lot of NaN values, and they don't necessarily have any use in this analysis (like PARKS_NM means the park or public place nearby where crime happened, and columns with information about the suspect are also not going to be important, considering they have a lot of missing data) so I would drop those columns entirely with the `drop()` function."
   ]
  },
  {
   "cell_type": "code",
   "execution_count": 87,
   "metadata": {},
   "outputs": [
    {
     "name": "stdout",
     "output_type": "stream",
     "text": [
      "Remaining Observations:  7776644\n",
      "Remaining Variables:  19\n"
     ]
    },
    {
     "data": {
      "text/html": [
       "<div>\n",
       "<style scoped>\n",
       "    .dataframe tbody tr th:only-of-type {\n",
       "        vertical-align: middle;\n",
       "    }\n",
       "\n",
       "    .dataframe tbody tr th {\n",
       "        vertical-align: top;\n",
       "    }\n",
       "\n",
       "    .dataframe thead th {\n",
       "        text-align: right;\n",
       "    }\n",
       "</style>\n",
       "<table border=\"1\" class=\"dataframe\">\n",
       "  <thead>\n",
       "    <tr style=\"text-align: right;\">\n",
       "      <th></th>\n",
       "      <th>CMPLNT_FR_DT</th>\n",
       "      <th>CMPLNT_FR_TM</th>\n",
       "      <th>RPT_DT</th>\n",
       "      <th>KY_CD</th>\n",
       "      <th>OFNS_DESC</th>\n",
       "      <th>CRM_ATPT_CPTD_CD</th>\n",
       "      <th>LAW_CAT_CD</th>\n",
       "      <th>BORO_NM</th>\n",
       "      <th>LOC_OF_OCCUR_DESC</th>\n",
       "      <th>JURIS_DESC</th>\n",
       "      <th>X_COORD_CD</th>\n",
       "      <th>Y_COORD_CD</th>\n",
       "      <th>SUSP_SEX</th>\n",
       "      <th>Latitude</th>\n",
       "      <th>Longitude</th>\n",
       "      <th>Lat_Lon</th>\n",
       "      <th>VIC_AGE_GROUP</th>\n",
       "      <th>VIC_RACE</th>\n",
       "      <th>VIC_SEX</th>\n",
       "    </tr>\n",
       "  </thead>\n",
       "  <tbody>\n",
       "    <tr>\n",
       "      <th>0</th>\n",
       "      <td>12/31/2019</td>\n",
       "      <td>17:30:00</td>\n",
       "      <td>12/31/2019</td>\n",
       "      <td>118</td>\n",
       "      <td>DANGEROUS WEAPONS</td>\n",
       "      <td>COMPLETED</td>\n",
       "      <td>FELONY</td>\n",
       "      <td>MANHATTAN</td>\n",
       "      <td>UNKNOWN</td>\n",
       "      <td>N.Y. POLICE DEPT</td>\n",
       "      <td>999937.0</td>\n",
       "      <td>238365.0</td>\n",
       "      <td>NaN</td>\n",
       "      <td>40.820927</td>\n",
       "      <td>-73.943324</td>\n",
       "      <td>(40.82092679700002, -73.94332421899996)</td>\n",
       "      <td>UNKNOWN</td>\n",
       "      <td>UNKNOWN</td>\n",
       "      <td>E</td>\n",
       "    </tr>\n",
       "    <tr>\n",
       "      <th>1</th>\n",
       "      <td>12/29/2019</td>\n",
       "      <td>16:31:00</td>\n",
       "      <td>12/29/2019</td>\n",
       "      <td>113</td>\n",
       "      <td>FORGERY</td>\n",
       "      <td>COMPLETED</td>\n",
       "      <td>FELONY</td>\n",
       "      <td>BRONX</td>\n",
       "      <td>UNKNOWN</td>\n",
       "      <td>N.Y. POLICE DEPT</td>\n",
       "      <td>1022508.0</td>\n",
       "      <td>261990.0</td>\n",
       "      <td>NaN</td>\n",
       "      <td>40.885701</td>\n",
       "      <td>-73.861640</td>\n",
       "      <td>(40.885701406000074, -73.86164032499995)</td>\n",
       "      <td>UNKNOWN</td>\n",
       "      <td>UNKNOWN</td>\n",
       "      <td>E</td>\n",
       "    </tr>\n",
       "    <tr>\n",
       "      <th>2</th>\n",
       "      <td>12/15/2019</td>\n",
       "      <td>18:45:00</td>\n",
       "      <td>12/29/2019</td>\n",
       "      <td>578</td>\n",
       "      <td>HARRASSMENT 2</td>\n",
       "      <td>COMPLETED</td>\n",
       "      <td>VIOLATION</td>\n",
       "      <td>QUEENS</td>\n",
       "      <td>FRONT OF</td>\n",
       "      <td>N.Y. POLICE DEPT</td>\n",
       "      <td>1034178.0</td>\n",
       "      <td>209758.0</td>\n",
       "      <td>M</td>\n",
       "      <td>40.742281</td>\n",
       "      <td>-73.819824</td>\n",
       "      <td>(40.74228115600005, -73.81982408)</td>\n",
       "      <td>25-44</td>\n",
       "      <td>WHITE HISPANIC</td>\n",
       "      <td>F</td>\n",
       "    </tr>\n",
       "    <tr>\n",
       "      <th>3</th>\n",
       "      <td>12/28/2019</td>\n",
       "      <td>01:00:00</td>\n",
       "      <td>12/28/2019</td>\n",
       "      <td>126</td>\n",
       "      <td>MISCELLANEOUS PENAL LAW</td>\n",
       "      <td>COMPLETED</td>\n",
       "      <td>FELONY</td>\n",
       "      <td>BRONX</td>\n",
       "      <td>REAR OF</td>\n",
       "      <td>N.Y. POLICE DEPT</td>\n",
       "      <td>1026412.0</td>\n",
       "      <td>258211.0</td>\n",
       "      <td>M</td>\n",
       "      <td>40.875311</td>\n",
       "      <td>-73.847545</td>\n",
       "      <td>(40.87531145100007, -73.84754521099995)</td>\n",
       "      <td>UNKNOWN</td>\n",
       "      <td>UNKNOWN</td>\n",
       "      <td>E</td>\n",
       "    </tr>\n",
       "    <tr>\n",
       "      <th>5</th>\n",
       "      <td>12/27/2019</td>\n",
       "      <td>22:00:00</td>\n",
       "      <td>12/27/2019</td>\n",
       "      <td>107</td>\n",
       "      <td>BURGLARY</td>\n",
       "      <td>ATTEMPTED</td>\n",
       "      <td>FELONY</td>\n",
       "      <td>MANHATTAN</td>\n",
       "      <td>FRONT OF</td>\n",
       "      <td>N.Y. POLICE DEPT</td>\n",
       "      <td>989665.0</td>\n",
       "      <td>201866.0</td>\n",
       "      <td>NaN</td>\n",
       "      <td>40.720759</td>\n",
       "      <td>-73.980466</td>\n",
       "      <td>(40.72075882100006, -73.98046642299995)</td>\n",
       "      <td>UNKNOWN</td>\n",
       "      <td>UNKNOWN</td>\n",
       "      <td>M</td>\n",
       "    </tr>\n",
       "  </tbody>\n",
       "</table>\n",
       "</div>"
      ],
      "text/plain": [
       "  CMPLNT_FR_DT CMPLNT_FR_TM      RPT_DT  KY_CD                OFNS_DESC  \\\n",
       "0   12/31/2019     17:30:00  12/31/2019    118        DANGEROUS WEAPONS   \n",
       "1   12/29/2019     16:31:00  12/29/2019    113                  FORGERY   \n",
       "2   12/15/2019     18:45:00  12/29/2019    578            HARRASSMENT 2   \n",
       "3   12/28/2019     01:00:00  12/28/2019    126  MISCELLANEOUS PENAL LAW   \n",
       "5   12/27/2019     22:00:00  12/27/2019    107                 BURGLARY   \n",
       "\n",
       "  CRM_ATPT_CPTD_CD LAW_CAT_CD    BORO_NM LOC_OF_OCCUR_DESC        JURIS_DESC  \\\n",
       "0        COMPLETED     FELONY  MANHATTAN           UNKNOWN  N.Y. POLICE DEPT   \n",
       "1        COMPLETED     FELONY      BRONX           UNKNOWN  N.Y. POLICE DEPT   \n",
       "2        COMPLETED  VIOLATION     QUEENS          FRONT OF  N.Y. POLICE DEPT   \n",
       "3        COMPLETED     FELONY      BRONX           REAR OF  N.Y. POLICE DEPT   \n",
       "5        ATTEMPTED     FELONY  MANHATTAN          FRONT OF  N.Y. POLICE DEPT   \n",
       "\n",
       "   X_COORD_CD  Y_COORD_CD SUSP_SEX   Latitude  Longitude  \\\n",
       "0    999937.0    238365.0      NaN  40.820927 -73.943324   \n",
       "1   1022508.0    261990.0      NaN  40.885701 -73.861640   \n",
       "2   1034178.0    209758.0        M  40.742281 -73.819824   \n",
       "3   1026412.0    258211.0        M  40.875311 -73.847545   \n",
       "5    989665.0    201866.0      NaN  40.720759 -73.980466   \n",
       "\n",
       "                                    Lat_Lon VIC_AGE_GROUP        VIC_RACE  \\\n",
       "0   (40.82092679700002, -73.94332421899996)       UNKNOWN         UNKNOWN   \n",
       "1  (40.885701406000074, -73.86164032499995)       UNKNOWN         UNKNOWN   \n",
       "2         (40.74228115600005, -73.81982408)         25-44  WHITE HISPANIC   \n",
       "3   (40.87531145100007, -73.84754521099995)       UNKNOWN         UNKNOWN   \n",
       "5   (40.72075882100006, -73.98046642299995)       UNKNOWN         UNKNOWN   \n",
       "\n",
       "  VIC_SEX  \n",
       "0       E  \n",
       "1       E  \n",
       "2       F  \n",
       "3       E  \n",
       "5       M  "
      ]
     },
     "execution_count": 87,
     "metadata": {},
     "output_type": "execute_result"
    }
   ],
   "source": [
    "#dropping rows with NaN values\n",
    "df.dropna(subset=['Y_COORD_CD','X_COORD_CD','Latitude','Longitude','CRM_ATPT_CPTD_CD','CMPLNT_FR_TM','Lat_Lon','CMPLNT_FR_DT','BORO_NM','OFNS_DESC'], inplace=True)\n",
    "\n",
    "#dropping columns that are not significant for future data exploration\n",
    "df.drop(['PARKS_NM','CMPLNT_NUM','STATION_NAME','TRANSIT_DISTRICT','HADEVELOPT','HOUSING_PSA'],axis='columns', inplace=True)\n",
    "\n",
    "df.drop(['PREM_TYP_DESC','SUSP_AGE_GROUP','SUSP_RACE','JURISDICTION_CODE'], axis='columns', inplace=True)\n",
    "\n",
    "df.drop(['ADDR_PCT_CD','PD_CD','PD_DESC','PATROL_BORO','CMPLNT_TO_DT','CMPLNT_TO_TM'], axis='columns', inplace=True)\n",
    "\n",
    "#replacing all NaN values in 'LOC_OF_OCCUR_DESC' with UNKNOWN\n",
    "df.fillna({'LOC_OF_OCCUR_DESC':'UNKNOWN'}, inplace=True)\n",
    "\n",
    "#replacing all NaN values in 'VIC_RACE' with UNKNOWN\n",
    "df.fillna({'VIC_RACE':'UNKNOWN'}, inplace=True)\n",
    "\n",
    "#replacing all NaN values in 'VIC_AGE_GROUP' with UNKNOWN\n",
    "df.fillna({'VIC_AGE_GROUP':'UNKNOWN'}, inplace=True)\n",
    "\n",
    "#replacing all NaN values in 'VIC_SEX' with UNKNOWN\n",
    "df.fillna({'VIC_SEX':'UNKNOWN'}, inplace=True)\n",
    "\n",
    "\n",
    "print(\"Remaining Observations: \", df.shape[0])\n",
    "print(\"Remaining Variables: \", df.shape[1])\n",
    "\n",
    "#examing the changes\n",
    "df.head(5)"
   ]
  },
  {
   "cell_type": "markdown",
   "metadata": {},
   "source": [
    " #### Preprocessing Text about Crime Type\n",
    " \n",
    " - The `unique()` function can extract a list of distinct values in a dataset, it returns the sorted unique elements of an array.\n",
    " \n",
    "After taking a good look at this data and removing NaN data, I realized that crime type data is really confusing. By extracting the unique values in the OFNS_DESC column (description of offense), I can see which descriptions are less intuitive and rename those values to make them more understandable."
   ]
  },
  {
   "cell_type": "code",
   "execution_count": 88,
   "metadata": {
    "collapsed": true
   },
   "outputs": [
    {
     "data": {
      "text/plain": [
       "array(['DANGEROUS WEAPONS', 'FORGERY', 'HARRASSMENT 2',\n",
       "       'MISCELLANEOUS PENAL LAW', 'BURGLARY', 'DANGEROUS DRUGS',\n",
       "       'PETIT LARCENY', 'OFF. AGNST PUB ORD SENSBLTY &', 'GRAND LARCENY',\n",
       "       'FELONY ASSAULT', 'ASSAULT 3 & RELATED OFFENSES', 'ARSON', 'RAPE',\n",
       "       'SEX CRIMES', 'GRAND LARCENY OF MOTOR VEHICLE', 'ROBBERY',\n",
       "       'CRIMINAL MISCHIEF & RELATED OF', 'THEFT-FRAUD',\n",
       "       'VEHICLE AND TRAFFIC LAWS', 'CRIMINAL TRESPASS',\n",
       "       'OFFENSES INVOLVING FRAUD', 'FRAUDS',\n",
       "       'OFFENSES AGAINST PUBLIC ADMINI', 'OFFENSES AGAINST THE PERSON',\n",
       "       'ADMINISTRATIVE CODE', 'INTOXICATED & IMPAIRED DRIVING',\n",
       "       'ESCAPE 3', 'NYS LAWS-UNCLASSIFIED FELONY',\n",
       "       'POSSESSION OF STOLEN PROPERTY', 'THEFT OF SERVICES',\n",
       "       'KIDNAPPING & RELATED OFFENSES', 'OTHER OFFENSES RELATED TO THEF',\n",
       "       'UNAUTHORIZED USE OF A VEHICLE', \"BURGLAR'S TOOLS\",\n",
       "       'ENDAN WELFARE INCOMP', 'FRAUDULENT ACCOSTING',\n",
       "       'AGRICULTURE & MRKTS LAW-UNCLASSIFIED',\n",
       "       'OTHER STATE LAWS (NON PENAL LA', 'OFFENSES AGAINST PUBLIC SAFETY',\n",
       "       'GAMBLING', 'PETIT LARCENY OF MOTOR VEHICLE',\n",
       "       'ALCOHOLIC BEVERAGE CONTROL LAW', 'OFFENSES RELATED TO CHILDREN',\n",
       "       'ANTICIPATORY OFFENSES', 'LOITERING/GAMBLING (CARDS, DIC',\n",
       "       'FELONY SEX CRIMES', 'HOMICIDE-NEGLIGENT,UNCLASSIFIE',\n",
       "       'PROSTITUTION & RELATED OFFENSES', 'JOSTLING',\n",
       "       'CHILD ABANDONMENT/NON SUPPORT', 'OTHER STATE LAWS', 'KIDNAPPING',\n",
       "       'NYS LAWS-UNCLASSIFIED VIOLATION', 'DISORDERLY CONDUCT',\n",
       "       'DISRUPTION OF A RELIGIOUS SERV', 'OFFENSES AGAINST MARRIAGE UNCL',\n",
       "       'HOMICIDE-NEGLIGENT-VEHICLE', 'INTOXICATED/IMPAIRED DRIVING',\n",
       "       'KIDNAPPING AND RELATED OFFENSES',\n",
       "       'UNLAWFUL POSS. WEAP. ON SCHOOL', 'OTHER TRAFFIC INFRACTION',\n",
       "       'OTHER STATE LAWS (NON PENAL LAW)', 'NEW YORK CITY HEALTH CODE',\n",
       "       'FORTUNE TELLING', 'LOITERING', 'ABORTION',\n",
       "       'UNDER THE INFLUENCE OF DRUGS', 'ADMINISTRATIVE CODES',\n",
       "       'LOITERING FOR DRUG PURPOSES', 'LOITERING/DEVIATE SEX'],\n",
       "      dtype=object)"
      ]
     },
     "execution_count": 88,
     "metadata": {},
     "output_type": "execute_result"
    }
   ],
   "source": [
    "df.OFNS_DESC.unique()"
   ]
  },
  {
   "cell_type": "markdown",
   "metadata": {},
   "source": [
    "- The `replace()` method returns a copy of all occurrences of a substring after being replaced with another substring. With that, I was able to copy the dataset into a new dataset called 'df_clean' and rename some of the crime descriptions (e.g. 'HARRASSMENT 2' to 'HARASSMENT', 'OFF. AGNST PUB ORD SENSBLTY &' to 'OFFENSES AGAINST PUBLIC ORDER/ADMINISTRATION')."
   ]
  },
  {
   "cell_type": "code",
   "execution_count": 96,
   "metadata": {},
   "outputs": [],
   "source": [
    "df.replace({'HARRASSMENT 2': 'HARASSMENT', 'ESCAPE 3': 'ESCAPE','ASSAULT 3 & RELATED OFFENSES': \n",
    "'ASSAULT & RELATED OFFENSES','CRIMINAL MISCHIEF & RELATED OF': 'CRIMINAL MISCHIEF',\n",
    "'OFF. AGNST PUB ORD SENSBLTY &':'OFFENSES AGAINST PUBLIC ORDER/ADMINISTRATION',\n",
    "'OTHER STATE LAWS (NON PENAL LA':'OTHER STATE LAWS (NON PENAL LAW)','ENDAN WELFARE INCOMP': \n",
    "'ENDANGERING WELFARE OF INCOMPETENT','AGRICULTURE & MRKTS LAW-UNCLASSIFIED': \n",
    "'AGRICULTURE & MARKETS LAW','DISRUPTION OF A RELIGIOUS SERV': 'DISRUPTION OF A RELIGIOUS SERVICE',\n",
    "'LOITERING/GAMBLING (CARDS, DIC': 'GAMBLING','OFFENSES AGAINST MARRIAGE UNCL': \n",
    "'OFFENSES AGAINST MARRIAGE','HOMICIDE-NEGLIGENT,UNCLASSIFIE': 'HOMICIDE-NEGLIGENT','E': 'UNKNOWN',\n",
    "'D': 'BUSINESS/ORGANIZATION','F': 'FEMALE','M': 'MALE'},inplace=True)"
   ]
  },
  {
   "cell_type": "code",
   "execution_count": 92,
   "metadata": {},
   "outputs": [
    {
     "data": {
      "text/plain": [
       "array(['UNKNOWN', 'FEMALE', 'MALE', 'BUSINESS/ORGANIZATION'], dtype=object)"
      ]
     },
     "execution_count": 92,
     "metadata": {},
     "output_type": "execute_result"
    }
   ],
   "source": [
    "# Checking if data is successfully modified.\n",
    "df['VIC_SEX'].unique()"
   ]
  },
  {
   "cell_type": "markdown",
   "metadata": {},
   "source": [
    "## Exploratory Analysis\n",
    "### 1. Types of Crimes\n",
    "\n",
    "After cleaning the data, I want to know how many types of crimes are there in New York City.\n",
    "\n",
    "- Use `value_counts` in Pandas.\n",
    "\n",
    "The `value_counts` method helps count the number of appearances of different types of crimes and sort them in order. Below, we have the 10 top crimes reported in the dataset."
   ]
  },
  {
   "cell_type": "code",
   "execution_count": 104,
   "metadata": {},
   "outputs": [
    {
     "name": "stdout",
     "output_type": "stream",
     "text": [
      "Sorted key-value pairs of OFNS_DESC in descending order : \n"
     ]
    },
    {
     "data": {
      "text/plain": [
       "{'PETIT LARCENY': 1327051,\n",
       " 'HARASSMENT': 1017337,\n",
       " 'ASSAULT & RELATED OFFENSES': 820351,\n",
       " 'CRIMINAL MISCHIEF': 787400,\n",
       " 'GRAND LARCENY': 677919,\n",
       " 'DANGEROUS DRUGS': 433456,\n",
       " 'OFFENSES AGAINST PUBLIC ORDER/ADMINISTRATION': 399154,\n",
       " 'FELONY ASSAULT': 308136,\n",
       " 'ROBBERY': 279488,\n",
       " 'BURGLARY': 266154,\n",
       " 'MISCELLANEOUS PENAL LAW': 199916,\n",
       " 'DANGEROUS WEAPONS': 166432,\n",
       " 'GRAND LARCENY OF MOTOR VEHICLE': 143499,\n",
       " 'OFFENSES AGAINST PUBLIC ADMINI': 142969,\n",
       " 'VEHICLE AND TRAFFIC LAWS': 99887,\n",
       " 'INTOXICATED & IMPAIRED DRIVING': 98711,\n",
       " 'SEX CRIMES': 94672,\n",
       " 'CRIMINAL TRESPASS': 83789,\n",
       " 'THEFT-FRAUD': 80259,\n",
       " 'FORGERY': 76938,\n",
       " 'FRAUDS': 46991,\n",
       " 'POSSESSION OF STOLEN PROPERTY': 38398,\n",
       " 'OFFENSES INVOLVING FRAUD': 25571,\n",
       " 'UNAUTHORIZED USE OF A VEHICLE': 23244,\n",
       " 'RAPE': 23063,\n",
       " 'OFFENSES AGAINST THE PERSON': 19166,\n",
       " 'ARSON': 18228,\n",
       " 'ADMINISTRATIVE CODE': 17016,\n",
       " 'OTHER OFFENSES RELATED TO THEF': 16834,\n",
       " 'NYS LAWS-UNCLASSIFIED FELONY': 7260,\n",
       " 'OTHER STATE LAWS (NON PENAL LAW)': 7128,\n",
       " 'THEFT OF SERVICES': 4657,\n",
       " \"BURGLAR'S TOOLS\": 4055,\n",
       " 'FRAUDULENT ACCOSTING': 3481,\n",
       " 'GAMBLING': 3429,\n",
       " 'KIDNAPPING & RELATED OFFENSES': 2987,\n",
       " 'OFFENSES RELATED TO CHILDREN': 1696,\n",
       " 'PETIT LARCENY OF MOTOR VEHICLE': 1471,\n",
       " 'PROSTITUTION & RELATED OFFENSES': 1425,\n",
       " 'ALCOHOLIC BEVERAGE CONTROL LAW': 1337,\n",
       " 'OFFENSES AGAINST PUBLIC SAFETY': 1111,\n",
       " 'DISORDERLY CONDUCT': 1041,\n",
       " 'AGRICULTURE & MARKETS LAW': 820,\n",
       " 'CHILD ABANDONMENT/NON SUPPORT': 471,\n",
       " 'JOSTLING': 453,\n",
       " 'OTHER STATE LAWS': 300,\n",
       " 'ENDANGERING WELFARE OF INCOMPETENT': 285,\n",
       " 'ESCAPE': 210,\n",
       " 'HOMICIDE-NEGLIGENT': 179,\n",
       " 'ANTICIPATORY OFFENSES': 144,\n",
       " 'HOMICIDE-NEGLIGENT-VEHICLE': 109,\n",
       " 'NEW YORK CITY HEALTH CODE': 96,\n",
       " 'UNLAWFUL POSS. WEAP. ON SCHOOL': 71,\n",
       " 'NYS LAWS-UNCLASSIFIED VIOLATION': 67,\n",
       " 'INTOXICATED/IMPAIRED DRIVING': 63,\n",
       " 'KIDNAPPING': 55,\n",
       " 'DISRUPTION OF A RELIGIOUS SERVICE': 55,\n",
       " 'FELONY SEX CRIMES': 33,\n",
       " 'LOITERING': 23,\n",
       " 'LOITERING FOR DRUG PURPOSES': 23,\n",
       " 'ADMINISTRATIVE CODES': 19,\n",
       " 'LOITERING/DEVIATE SEX': 16,\n",
       " 'OTHER TRAFFIC INFRACTION': 15,\n",
       " 'FORTUNE TELLING': 12,\n",
       " 'ABORTION': 7,\n",
       " 'OFFENSES AGAINST MARRIAGE': 5,\n",
       " 'KIDNAPPING AND RELATED OFFENSES': 3,\n",
       " 'UNDER THE INFLUENCE OF DRUGS': 3}"
      ]
     },
     "execution_count": 104,
     "metadata": {},
     "output_type": "execute_result"
    }
   ],
   "source": [
    "a = []\n",
    "a=(df.OFNS_DESC.unique())\n",
    "u={}\n",
    "for i in a:\n",
    "    u.update({i:df.loc[df['OFNS_DESC']==i].shape[0]})\n",
    "    \n",
    "print('Sorted key-value pairs of OFNS_DESC in descending order : ')    \n",
    "{k: v for k, v in sorted(u.items(), key=lambda item: item[1],reverse=True)}"
   ]
  },
  {
   "cell_type": "code",
   "execution_count": 105,
   "metadata": {},
   "outputs": [
    {
     "data": {
      "text/plain": [
       "PETIT LARCENY                 1327051\n",
       "HARASSMENT                    1017337\n",
       "ASSAULT & RELATED OFFENSES     820351\n",
       "CRIMINAL MISCHIEF              787400\n",
       "GRAND LARCENY                  677919\n",
       "Name: OFNS_DESC, dtype: int64"
      ]
     },
     "execution_count": 105,
     "metadata": {},
     "output_type": "execute_result"
    }
   ],
   "source": [
    "# Alternate method to find types of crimes (top 5)\n",
    "df['OFNS_DESC'].value_counts().iloc[:5]"
   ]
  },
  {
   "cell_type": "markdown",
   "metadata": {},
   "source": [
    "Here, we can see the crime incident that has happened the most frequently in New York City is “Petit Larceny”, a form of larceny in which the value of the property taken is generally less than $50.\n",
    "\n",
    "Then, I plotted the result for better visualization."
   ]
  },
  {
   "cell_type": "code",
   "execution_count": 107,
   "metadata": {},
   "outputs": [
    {
     "data": {
      "text/plain": [
       "<AxesSubplot:title={'center':'Types of Crimes'}>"
      ]
     },
     "execution_count": 107,
     "metadata": {},
     "output_type": "execute_result"
    },
    {
     "data": {
      "image/png": "[encoded data removed]",
      "text/plain": [
       "<Figure size 432x288 with 1 Axes>"
      ]
     },
     "metadata": {
      "needs_background": "light"
     },
     "output_type": "display_data"
    }
   ],
   "source": [
    "df.OFNS_DESC.value_counts().iloc[:10].sort_values().plot(kind=\"barh\", title = \"Types of Crimes\")"
   ]
  },
  {
   "cell_type": "markdown",
   "metadata": {},
   "source": [
    "There are three levels of crime in New York State: Violation, Misdemeanor and Felony.\n",
    "\n",
    "From the graph below, I can tell that Misdemeanor, an offense of which a sentence in excess of 15 days but not greater than one year may be imposed, is the most popular level of crime. The second popular one is Felony, the most serious of offenses, and the third one is Violation, a lesser offense for which a sentence only be no more than 15 days."
   ]
  },
  {
   "cell_type": "code",
   "execution_count": 109,
   "metadata": {},
   "outputs": [
    {
     "data": {
      "text/plain": [
       "array([<AxesSubplot:ylabel='LAW_CAT_CD'>], dtype=object)"
      ]
     },
     "execution_count": 109,
     "metadata": {},
     "output_type": "execute_result"
    },
    {
     "data": {
      "image/png": "[encoded data removed]",
      "text/plain": [
       "<Figure size 720x360 with 1 Axes>"
      ]
     },
     "metadata": {},
     "output_type": "display_data"
    }
   ],
   "source": [
    "df['LAW_CAT_CD'].value_counts().sort_values().plot(kind='pie', subplots=True, shadow = True,startangle=40,\n",
    "figsize=(10,5), autopct='%1.1f%%', title = 'Level of Offense')"
   ]
  },
  {
   "cell_type": "markdown",
   "metadata": {},
   "source": [
    "### 2. Distribution of crimes over the years, months and days\n",
    "\n",
    "I also want to know about the trend of crime incidents that have been taking place in NYC.\n",
    "\n",
    "The first graph shows the crime events by year, then by month, and, at last, the crime distribution in a day."
   ]
  },
  {
   "cell_type": "code",
   "execution_count": 155,
   "metadata": {},
   "outputs": [
    {
     "data": {
      "text/plain": [
       "[<matplotlib.lines.Line2D at 0x1ec55e25fa0>]"
      ]
     },
     "execution_count": 155,
     "metadata": {},
     "output_type": "execute_result"
    },
    {
     "data": {
      "image/png": "[encoded data removed]",
      "text/plain": [
       "<Figure size 576x432 with 1 Axes>"
      ]
     },
     "metadata": {
      "needs_background": "light"
     },
     "output_type": "display_data"
    }
   ],
   "source": [
    "import matplotlib.pyplot as plt\n",
    "x_axis = [x+1  for x in range(2005,2021) ]\n",
    "df['year'] = df['RPT_DT'].str.findall(r'(\\d{4})').apply(lambda x: x[0])\n",
    "y_axis = df['year'].value_counts()\n",
    "plt.figure(figsize=(8,6))\n",
    "plt.plot(x_axis,y_axis)"
   ]
  },
  {
   "cell_type": "markdown",
   "metadata": {},
   "source": [
    "Overall, by looking at the number of offenses recorded by the NYC police, it's possible to see that crime levels have been decreasing consistently since 2006."
   ]
  },
  {
   "cell_type": "code",
   "execution_count": 154,
   "metadata": {},
   "outputs": [
    {
     "data": {
      "text/plain": [
       "<AxesSubplot:title={'center':'Total Crime Events by Month'}, xlabel='month'>"
      ]
     },
     "execution_count": 154,
     "metadata": {},
     "output_type": "execute_result"
    },
    {
     "data": {
      "image/png": "[encoded data removed]",
      "text/plain": [
       "<Figure size 432x288 with 1 Axes>"
      ]
     },
     "metadata": {
      "needs_background": "light"
     },
     "output_type": "display_data"
    }
   ],
   "source": [
    "#reports by month\n",
    "df['month'] = df['RPT_DT'].str.findall('(\\d{2})').apply(lambda x: x[0])\n",
    "df.groupby('month').size().plot(kind = 'bar', title ='Total Crime Events by Month', color = '#C0392B',rot=0)\n",
    "\n",
    "#descending orde\n",
    "#df['month'].value_counts().plot(kind=\"barh\", xlabel = \"months\", ylabel = \"reports\", rot=0)"
   ]
  },
  {
   "cell_type": "markdown",
   "metadata": {},
   "source": [
    "Crimes happened the most during July, August, and October, whereas February, November, and December appear to be safer.\n",
    "\n",
    "It should be noted that February has only 28 days, so as result it has 45 days less than the other months over the period of 16 years .\n",
    "\n",
    "From that information, it might be possible to assume a positive correlation between temperature and crime. "
   ]
  },
  {
   "cell_type": "code",
   "execution_count": 116,
   "metadata": {},
   "outputs": [
    {
     "data": {
      "text/plain": [
       "<AxesSubplot:title={'center':'Total Crime Events by Day'}, xlabel='hours'>"
      ]
     },
     "execution_count": 116,
     "metadata": {},
     "output_type": "execute_result"
    },
    {
     "data": {
      "image/png": "[encoded data removed]",
      "text/plain": [
       "<Figure size 432x288 with 1 Axes>"
      ]
     },
     "metadata": {
      "needs_background": "light"
     },
     "output_type": "display_data"
    }
   ],
   "source": [
    "#reports by hour\n",
    "df['time'] = df['CMPLNT_FR_TM'].str.findall('(\\d{2})').apply(lambda x: x[0])\n",
    "df.groupby('time').size().plot(kind = 'bar', title ='Total Crime Events by Day', color = '#E67E22', xlabel = 'hours',rot=0)\n",
    "#descending order\n",
    "#df['time'].value_counts().plot(kind=\"bar\", xlabel = \"hours\", ylabel = \"reports\", rot=0)"
   ]
  },
  {
   "cell_type": "markdown",
   "metadata": {},
   "source": [
    "We can tell the safest time of the day when a crime is the least possible to happen is 5 am, but it's more likely to happen between 12 pm and 6 pm."
   ]
  },
  {
   "cell_type": "markdown",
   "metadata": {},
   "source": [
    "### 3. Distribution of Crime in each borough\n",
    "\n",
    "According to this visualization, Brooklyn has the overall highest number of crime events, with over 2 million reports."
   ]
  },
  {
   "cell_type": "code",
   "execution_count": 140,
   "metadata": {},
   "outputs": [
    {
     "data": {
      "text/plain": [
       "<AxesSubplot:title={'center':'Total of Crime Events by Borough'}>"
      ]
     },
     "execution_count": 140,
     "metadata": {},
     "output_type": "execute_result"
    },
    {
     "data": {
      "image/png": "[encoded data removed]",
      "text/plain": [
       "<Figure size 432x288 with 1 Axes>"
      ]
     },
     "metadata": {
      "needs_background": "light"
     },
     "output_type": "display_data"
    }
   ],
   "source": [
    "df['BORO_NM'].value_counts().sort_values().plot(kind=\"barh\", color = '#1ABC9C', title = 'Total of Crime Events by Borough')"
   ]
  },
  {
   "cell_type": "markdown",
   "metadata": {},
   "source": [
    "### 4. Analyzing a Specific Crime\n",
    "\n",
    "Now specifically analyzing sex related crimes in NYC. For that, I put the part of the dataframe that contains the crime description 'sex crimes' and 'rape' into another dataframe and called it “sex_crimes.”"
   ]
  },
  {
   "cell_type": "code",
   "execution_count": 141,
   "metadata": {},
   "outputs": [
    {
     "data": {
      "text/html": [
       "<div>\n",
       "<style scoped>\n",
       "    .dataframe tbody tr th:only-of-type {\n",
       "        vertical-align: middle;\n",
       "    }\n",
       "\n",
       "    .dataframe tbody tr th {\n",
       "        vertical-align: top;\n",
       "    }\n",
       "\n",
       "    .dataframe thead th {\n",
       "        text-align: right;\n",
       "    }\n",
       "</style>\n",
       "<table border=\"1\" class=\"dataframe\">\n",
       "  <thead>\n",
       "    <tr style=\"text-align: right;\">\n",
       "      <th></th>\n",
       "      <th>CMPLNT_FR_DT</th>\n",
       "      <th>CMPLNT_FR_TM</th>\n",
       "      <th>RPT_DT</th>\n",
       "      <th>KY_CD</th>\n",
       "      <th>OFNS_DESC</th>\n",
       "      <th>CRM_ATPT_CPTD_CD</th>\n",
       "      <th>LAW_CAT_CD</th>\n",
       "      <th>BORO_NM</th>\n",
       "      <th>LOC_OF_OCCUR_DESC</th>\n",
       "      <th>JURIS_DESC</th>\n",
       "      <th>...</th>\n",
       "      <th>SUSP_SEX</th>\n",
       "      <th>Latitude</th>\n",
       "      <th>Longitude</th>\n",
       "      <th>Lat_Lon</th>\n",
       "      <th>VIC_AGE_GROUP</th>\n",
       "      <th>VIC_RACE</th>\n",
       "      <th>VIC_SEX</th>\n",
       "      <th>year</th>\n",
       "      <th>month</th>\n",
       "      <th>time</th>\n",
       "    </tr>\n",
       "  </thead>\n",
       "  <tbody>\n",
       "    <tr>\n",
       "      <th>20</th>\n",
       "      <td>12/19/2019</td>\n",
       "      <td>02:50:00</td>\n",
       "      <td>12/19/2019</td>\n",
       "      <td>104</td>\n",
       "      <td>RAPE</td>\n",
       "      <td>COMPLETED</td>\n",
       "      <td>FELONY</td>\n",
       "      <td>BRONX</td>\n",
       "      <td>INSIDE</td>\n",
       "      <td>N.Y. POLICE DEPT</td>\n",
       "      <td>...</td>\n",
       "      <td>MALE</td>\n",
       "      <td>40.822570</td>\n",
       "      <td>-73.911307</td>\n",
       "      <td>(40.82256991600008, -73.91130716899994)</td>\n",
       "      <td>&lt;18</td>\n",
       "      <td>BLACK HISPANIC</td>\n",
       "      <td>FEMALE</td>\n",
       "      <td>2019</td>\n",
       "      <td>12</td>\n",
       "      <td>02</td>\n",
       "    </tr>\n",
       "    <tr>\n",
       "      <th>23</th>\n",
       "      <td>12/06/2019</td>\n",
       "      <td>11:30:00</td>\n",
       "      <td>12/19/2019</td>\n",
       "      <td>233</td>\n",
       "      <td>SEX CRIMES</td>\n",
       "      <td>COMPLETED</td>\n",
       "      <td>MISDEMEANOR</td>\n",
       "      <td>MANHATTAN</td>\n",
       "      <td>INSIDE</td>\n",
       "      <td>N.Y. POLICE DEPT</td>\n",
       "      <td>...</td>\n",
       "      <td>MALE</td>\n",
       "      <td>40.742699</td>\n",
       "      <td>-73.998655</td>\n",
       "      <td>(40.74269929900004, -73.99865537999993)</td>\n",
       "      <td>25-44</td>\n",
       "      <td>UNKNOWN</td>\n",
       "      <td>FEMALE</td>\n",
       "      <td>2019</td>\n",
       "      <td>12</td>\n",
       "      <td>11</td>\n",
       "    </tr>\n",
       "    <tr>\n",
       "      <th>32</th>\n",
       "      <td>12/15/2019</td>\n",
       "      <td>09:30:00</td>\n",
       "      <td>12/15/2019</td>\n",
       "      <td>116</td>\n",
       "      <td>SEX CRIMES</td>\n",
       "      <td>COMPLETED</td>\n",
       "      <td>FELONY</td>\n",
       "      <td>BRONX</td>\n",
       "      <td>INSIDE</td>\n",
       "      <td>N.Y. POLICE DEPT</td>\n",
       "      <td>...</td>\n",
       "      <td>MALE</td>\n",
       "      <td>40.837324</td>\n",
       "      <td>-73.919831</td>\n",
       "      <td>(40.83732351100008, -73.91983075699994)</td>\n",
       "      <td>&lt;18</td>\n",
       "      <td>BLACK</td>\n",
       "      <td>FEMALE</td>\n",
       "      <td>2019</td>\n",
       "      <td>12</td>\n",
       "      <td>09</td>\n",
       "    </tr>\n",
       "    <tr>\n",
       "      <th>34</th>\n",
       "      <td>12/05/2019</td>\n",
       "      <td>22:00:00</td>\n",
       "      <td>12/15/2019</td>\n",
       "      <td>233</td>\n",
       "      <td>SEX CRIMES</td>\n",
       "      <td>COMPLETED</td>\n",
       "      <td>MISDEMEANOR</td>\n",
       "      <td>MANHATTAN</td>\n",
       "      <td>UNKNOWN</td>\n",
       "      <td>N.Y. POLICE DEPT</td>\n",
       "      <td>...</td>\n",
       "      <td>MALE</td>\n",
       "      <td>40.828851</td>\n",
       "      <td>-73.943834</td>\n",
       "      <td>(40.82885104500008, -73.94383419099995)</td>\n",
       "      <td>25-44</td>\n",
       "      <td>WHITE</td>\n",
       "      <td>FEMALE</td>\n",
       "      <td>2019</td>\n",
       "      <td>12</td>\n",
       "      <td>22</td>\n",
       "    </tr>\n",
       "    <tr>\n",
       "      <th>38</th>\n",
       "      <td>11/15/2017</td>\n",
       "      <td>20:00:00</td>\n",
       "      <td>12/13/2019</td>\n",
       "      <td>104</td>\n",
       "      <td>RAPE</td>\n",
       "      <td>COMPLETED</td>\n",
       "      <td>FELONY</td>\n",
       "      <td>QUEENS</td>\n",
       "      <td>INSIDE</td>\n",
       "      <td>N.Y. POLICE DEPT</td>\n",
       "      <td>...</td>\n",
       "      <td>MALE</td>\n",
       "      <td>40.729939</td>\n",
       "      <td>-73.810433</td>\n",
       "      <td>(40.729939364000074, -73.81043314199997)</td>\n",
       "      <td>18-24</td>\n",
       "      <td>WHITE</td>\n",
       "      <td>FEMALE</td>\n",
       "      <td>2019</td>\n",
       "      <td>12</td>\n",
       "      <td>20</td>\n",
       "    </tr>\n",
       "  </tbody>\n",
       "</table>\n",
       "<p>5 rows × 22 columns</p>\n",
       "</div>"
      ],
      "text/plain": [
       "   CMPLNT_FR_DT CMPLNT_FR_TM      RPT_DT  KY_CD   OFNS_DESC CRM_ATPT_CPTD_CD  \\\n",
       "20   12/19/2019     02:50:00  12/19/2019    104        RAPE        COMPLETED   \n",
       "23   12/06/2019     11:30:00  12/19/2019    233  SEX CRIMES        COMPLETED   \n",
       "32   12/15/2019     09:30:00  12/15/2019    116  SEX CRIMES        COMPLETED   \n",
       "34   12/05/2019     22:00:00  12/15/2019    233  SEX CRIMES        COMPLETED   \n",
       "38   11/15/2017     20:00:00  12/13/2019    104        RAPE        COMPLETED   \n",
       "\n",
       "     LAW_CAT_CD    BORO_NM LOC_OF_OCCUR_DESC        JURIS_DESC  ...  SUSP_SEX  \\\n",
       "20       FELONY      BRONX            INSIDE  N.Y. POLICE DEPT  ...      MALE   \n",
       "23  MISDEMEANOR  MANHATTAN            INSIDE  N.Y. POLICE DEPT  ...      MALE   \n",
       "32       FELONY      BRONX            INSIDE  N.Y. POLICE DEPT  ...      MALE   \n",
       "34  MISDEMEANOR  MANHATTAN           UNKNOWN  N.Y. POLICE DEPT  ...      MALE   \n",
       "38       FELONY     QUEENS            INSIDE  N.Y. POLICE DEPT  ...      MALE   \n",
       "\n",
       "     Latitude  Longitude                                   Lat_Lon  \\\n",
       "20  40.822570 -73.911307   (40.82256991600008, -73.91130716899994)   \n",
       "23  40.742699 -73.998655   (40.74269929900004, -73.99865537999993)   \n",
       "32  40.837324 -73.919831   (40.83732351100008, -73.91983075699994)   \n",
       "34  40.828851 -73.943834   (40.82885104500008, -73.94383419099995)   \n",
       "38  40.729939 -73.810433  (40.729939364000074, -73.81043314199997)   \n",
       "\n",
       "    VIC_AGE_GROUP        VIC_RACE VIC_SEX  year month time  \n",
       "20            <18  BLACK HISPANIC  FEMALE  2019    12   02  \n",
       "23          25-44         UNKNOWN  FEMALE  2019    12   11  \n",
       "32            <18           BLACK  FEMALE  2019    12   09  \n",
       "34          25-44           WHITE  FEMALE  2019    12   22  \n",
       "38          18-24           WHITE  FEMALE  2019    12   20  \n",
       "\n",
       "[5 rows x 22 columns]"
      ]
     },
     "execution_count": 141,
     "metadata": {},
     "output_type": "execute_result"
    }
   ],
   "source": [
    "sex_crimes = df[df.OFNS_DESC.str.contains('SEX CRIMES|RAPE')]\n",
    "sex_crimes.head()"
   ]
  },
  {
   "cell_type": "code",
   "execution_count": 142,
   "metadata": {},
   "outputs": [
    {
     "data": {
      "text/plain": [
       "(117768, 22)"
      ]
     },
     "execution_count": 142,
     "metadata": {},
     "output_type": "execute_result"
    }
   ],
   "source": [
    "sex_crimes.shape"
   ]
  },
  {
   "cell_type": "markdown",
   "metadata": {},
   "source": [
    "#### Analyzing Time\n",
    "\n",
    "We may be interested in the distribution of values across the years, so I'm going to group the data by year and plot the results."
   ]
  },
  {
   "cell_type": "code",
   "execution_count": 145,
   "metadata": {},
   "outputs": [
    {
     "data": {
      "text/plain": [
       "[2006,\n",
       " 2007,\n",
       " 2008,\n",
       " 2009,\n",
       " 2010,\n",
       " 2011,\n",
       " 2012,\n",
       " 2013,\n",
       " 2014,\n",
       " 2015,\n",
       " 2016,\n",
       " 2017,\n",
       " 2018,\n",
       " 2019,\n",
       " 2020,\n",
       " 2021]"
      ]
     },
     "execution_count": 145,
     "metadata": {},
     "output_type": "execute_result"
    }
   ],
   "source": [
    "x_axis"
   ]
  },
  {
   "cell_type": "code",
   "execution_count": 149,
   "metadata": {},
   "outputs": [
    {
     "name": "stdout",
     "output_type": "stream",
     "text": [
      "7360.5\n"
     ]
    },
    {
     "data": {
      "image/png": "[encoded data removed]",
      "text/plain": [
       "<Figure size 432x288 with 1 Axes>"
      ]
     },
     "metadata": {
      "needs_background": "light"
     },
     "output_type": "display_data"
    }
   ],
   "source": [
    "#plot graph\n",
    "sex_crimes.groupby('year').size().plot(kind = 'line', color = '#8E44AD', title = 'Sex Crime Reports by Year')\n",
    "\n",
    "#average sex crimes per year\n",
    "mean = sex_crimes['year'].value_counts().mean()\n",
    "print(round(mean,2))\n"
   ]
  },
  {
   "cell_type": "markdown",
   "metadata": {},
   "source": [
    "### The most probable reason for the rapid spike after 2013 is due to Bill De Blasio's policy on reducing Prosecution for the use of Marijuana possession . And there is rapid decrease from 2020 thanks to Covid-19."
   ]
  },
  {
   "cell_type": "markdown",
   "metadata": {},
   "source": [
    "**\"Research in the area of sexual assault and the role that alcohol and other drugs play is robust, involving many disciplines and methodologies. The literature has discussed alcohol and drug use in sexual assault and rape asThe Role of Marijuana in Sexual Assault primarily 1) substance-facilitated or 2) substance-incapacitated\"** ~(Kilpatrick, et al. 2007). "
   ]
  },
  {
   "cell_type": "markdown",
   "metadata": {},
   "source": [
    "\n",
    "- On average, there are 7443 victims of rape and sexual assault each year in New York City.\n",
    "\n",
    "Let’s also look at how the number of the reports changes within a day."
   ]
  },
  {
   "cell_type": "code",
   "execution_count": 150,
   "metadata": {},
   "outputs": [
    {
     "data": {
      "text/plain": [
       "<AxesSubplot:title={'center':'Sex Crime Reports by Hour'}, xlabel='time'>"
      ]
     },
     "execution_count": 150,
     "metadata": {},
     "output_type": "execute_result"
    },
    {
     "data": {
      "image/png": "[encoded data removed]",
      "text/plain": [
       "<Figure size 432x288 with 1 Axes>"
      ]
     },
     "metadata": {
      "needs_background": "light"
     },
     "output_type": "display_data"
    }
   ],
   "source": [
    "#plot graph\n",
    "sex_crimes.groupby('time').size().plot(kind = 'bar', color = '#3498DB', rot=0, title = 'Sex Crime Reports by Hour')"
   ]
  },
  {
   "cell_type": "markdown",
   "metadata": {},
   "source": [
    "Here, we can tell the safest time of the day when a sex crime is the least possible to happen in NYC is 6 am. However, people need to be more careful between midnight and 1 am.\n",
    "\n",
    "#### Analyzing the victims\n",
    "\n",
    "Sexual violence affects millions of people. The impact of sexual assault, domestic violence, dating violence or stalking can be life altering for survivors and their families. Therefore, I decided to make a brief analysis of the sex crime victims in New York."
   ]
  },
  {
   "cell_type": "code",
   "execution_count": 151,
   "metadata": {},
   "outputs": [
    {
     "name": "stdout",
     "output_type": "stream",
     "text": [
      "FEMALE                   83.224645\n",
      "MALE                     14.875858\n",
      "UNKNOWN                   1.789960\n",
      "BUSINESS/ORGANIZATION     0.109537\n",
      "Name: VIC_SEX, dtype: float64\n"
     ]
    },
    {
     "data": {
      "image/png": "[encoded data removed]",
      "text/plain": [
       "<Figure size 432x288 with 1 Axes>"
      ]
     },
     "metadata": {
      "needs_background": "light"
     },
     "output_type": "display_data"
    }
   ],
   "source": [
    "#plot graph\n",
    "sex_crimes['VIC_SEX'].value_counts().iloc[:3].plot(kind=\"bar\",  color = '#F1C40F', title = 'Sex Crime Victims by Gender', rot=0)\n",
    "\n",
    "#victims by gender percentage\n",
    "vic_sex_per = sex_crimes['VIC_SEX'].value_counts() / sex_crimes['VIC_SEX'].shape[0] *100\n",
    "print(vic_sex_per)"
   ]
  },
  {
   "cell_type": "code",
   "execution_count": 152,
   "metadata": {},
   "outputs": [
    {
     "name": "stdout",
     "output_type": "stream",
     "text": [
      "<18      48.015590\n",
      "25-44    23.234665\n",
      "18-24    16.386455\n",
      "45-64     4.997113\n",
      "65+       0.594389\n",
      "Name: VIC_AGE_GROUP, dtype: float64\n"
     ]
    },
    {
     "data": {
      "image/png": "[encoded data removed]",
      "text/plain": [
       "<Figure size 432x288 with 1 Axes>"
      ]
     },
     "metadata": {
      "needs_background": "light"
     },
     "output_type": "display_data"
    }
   ],
   "source": [
    "#plot graph\n",
    "sex_crimes['VIC_AGE_GROUP'].value_counts().iloc[[0,1,2,4,5]].plot(kind=\"bar\", color = '#2ECC71', title = 'Sex Crime Victims by Age Group', rot=0)\n",
    "\n",
    "#victims by age percentage\n",
    "vic_age_per = sex_crimes['VIC_AGE_GROUP'].value_counts().iloc[[0,1,2,4,5]] / sex_crimes['VIC_AGE_GROUP'].shape[0] *100\n",
    "print(vic_age_per)"
   ]
  },
  {
   "cell_type": "code",
   "execution_count": 153,
   "metadata": {},
   "outputs": [
    {
     "name": "stdout",
     "output_type": "stream",
     "text": [
      "BLACK                             32.663372\n",
      "WHITE HISPANIC                    28.658040\n",
      "WHITE                             16.543543\n",
      "UNKNOWN                           10.095272\n",
      "ASIAN / PACIFIC ISLANDER           6.146831\n",
      "BLACK HISPANIC                     5.621221\n",
      "AMERICAN INDIAN/ALASKAN NATIVE     0.269173\n",
      "Name: VIC_RACE, dtype: float64\n"
     ]
    },
    {
     "data": {
      "image/png": "[encoded data removed]",
      "text/plain": [
       "<Figure size 432x288 with 1 Axes>"
      ]
     },
     "metadata": {
      "needs_background": "light"
     },
     "output_type": "display_data"
    }
   ],
   "source": [
    "#plot graph\n",
    "sex_crimes['VIC_RACE'].value_counts().iloc[:7].plot(kind=\"barh\", color = '#D35400', title = 'Sex Crime Victims by Race')\n",
    "\n",
    "#victims by race percentage\n",
    "vic_race_per = sex_crimes['VIC_RACE'].value_counts().iloc[:7] / sex_crimes['VIC_RACE'].shape[0] *100\n",
    "print(vic_race_per)"
   ]
  },
  {
   "cell_type": "markdown",
   "metadata": {},
   "source": [
    "**Through this analysis of the victims, I have found the following insights:**\n",
    "\n",
    "- 83% of all victims are female. Women are approximately four times more likely to be victims of rape, attempted rape, or sexual assault.\n",
    "\n",
    "- Ages under 18 are at the highest risk for rape/sexual assault.\n",
    "\n",
    "- Black and White Hispanic residents are twice as likely to experience a rape/sexual assault compared to any other race. And it is also true otherwise.\n",
    "\n",
    "- The legalisation of use of Cannabis has resulted in a noticible spike in the number of sexual assault cases over the years.\n",
    "\n",
    "- The peak hour for a crime to be committed is the midnight.\n",
    "\n",
    "- We also saw a positive correlation between the temperature affecting the number of crimes connected.\n",
    "\n"
   ]
  }
 ],
 "metadata": {
  "kernelspec": {
   "display_name": "Python 3",
   "language": "python",
   "name": "python3"
  },
  "language_info": {
   "codemirror_mode": {
    "name": "ipython",
    "version": 3
   },
   "file_extension": ".py",
   "mimetype": "text/x-python",
   "name": "python",
   "nbconvert_exporter": "python",
   "pygments_lexer": "ipython3",
   "version": "3.8.8"
  }
 },
 "nbformat": 4,
 "nbformat_minor": 4
}
